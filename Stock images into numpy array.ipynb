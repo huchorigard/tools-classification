{
 "cells": [
  {
   "cell_type": "markdown",
   "metadata": {},
   "source": [
    "# Create an Array containing every images \n",
    "## Create images.npy and labels.npy containing the images and their labels"
   ]
  },
  {
   "cell_type": "markdown",
   "metadata": {},
   "source": [
    "We import numpy and keras.preprocessing to do so"
   ]
  },
  {
   "cell_type": "code",
   "execution_count": 1,
   "metadata": {},
   "outputs": [
    {
     "name": "stderr",
     "output_type": "stream",
     "text": [
      "Using TensorFlow backend.\n"
     ]
    }
   ],
   "source": [
    "import numpy as np\n",
    "from keras.preprocessing import image"
   ]
  },
  {
   "cell_type": "code",
   "execution_count": 2,
   "metadata": {},
   "outputs": [
    {
     "name": "stdout",
     "output_type": "stream",
     "text": [
      "README.md   \u001b[34mconditions2\u001b[m\u001b[m \u001b[34mconditions4\u001b[m\u001b[m \u001b[34mgoogle\u001b[m\u001b[m\r\n",
      "\u001b[34mconditions1\u001b[m\u001b[m \u001b[34mconditions3\u001b[m\u001b[m \u001b[34mconditions5\u001b[m\u001b[m\r\n"
     ]
    }
   ],
   "source": [
    "!ls tools"
   ]
  },
  {
   "cell_type": "markdown",
   "metadata": {},
   "source": [
    "The folder tools is the database. It contains all the images, classified in different folders : folder for conditions and sub-folders for tools class.\n",
    "\n",
    "It needs to be copied in the same folder as this piece of code."
   ]
  },
  {
   "cell_type": "code",
   "execution_count": 11,
   "metadata": {
    "collapsed": true
   },
   "outputs": [],
   "source": [
    "cond = ['conditions1','conditions2','conditions3','conditions4','conditions5']\n",
    "np_images = []\n",
    "labels = []\n",
    "for i in cond:\n",
    "    l = !ls tools/$i* #tools is the joris database\n",
    "    for j in l:\n",
    "        ll = !ls tools/$i*/$j*\n",
    "        for k in ll:\n",
    "            np_images.append(image.img_to_array(image.load_img('tools/'+str(i)+'/'+str(j)+'/'+str(k))))\n",
    "            labels.append([str(i),str(j)])\n",
    "np_images = np.array(np_images)\n",
    "labels = np.array(labels)"
   ]
  },
  {
   "cell_type": "code",
   "execution_count": 17,
   "metadata": {},
   "outputs": [
    {
     "name": "stdout",
     "output_type": "stream",
     "text": [
      "images shape (560, 480, 640, 3) \n",
      "labels shape (560, 2)\n"
     ]
    }
   ],
   "source": [
    "print('images shape', np_images.shape, '\\nlabels shape', labels.shape)"
   ]
  },
  {
   "cell_type": "code",
   "execution_count": 18,
   "metadata": {
    "collapsed": true
   },
   "outputs": [],
   "source": [
    "np.save('images',np.array(np_images))\n",
    "np.save('labels',np.array(labels))"
   ]
  },
  {
   "cell_type": "markdown",
   "metadata": {},
   "source": [
    "Now we can work easily with clean arrays containing all our data"
   ]
  }
 ],
 "metadata": {
  "kernelspec": {
   "display_name": "Python 3",
   "language": "python",
   "name": "python3"
  },
  "language_info": {
   "codemirror_mode": {
    "name": "ipython",
    "version": 3
   },
   "file_extension": ".py",
   "mimetype": "text/x-python",
   "name": "python",
   "nbconvert_exporter": "python",
   "pygments_lexer": "ipython3",
   "version": "3.6.2"
  }
 },
 "nbformat": 4,
 "nbformat_minor": 2
}
